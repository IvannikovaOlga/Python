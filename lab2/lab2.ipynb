{
 "cells": [
  {
   "cell_type": "code",
   "execution_count": 5,
   "metadata": {},
   "outputs": [
    {
     "name": "stdout",
     "output_type": "stream",
     "text": [
      "тридцать четыре\n",
      "['4тмовл', 'атылыта', 'тал', 'шятаол']\n",
      "{'атылыта', 'тал', 'шятаол', '4тмовл'}\n"
     ]
    }
   ],
   "source": [
    "import nbimporter\n",
    "from func import number_to_words\n",
    "from func import fr\n",
    "if __name__ == '__main__':\n",
    "    t=int(input())\n",
    "    print(number_to_words(t))\n",
    "    s=input()\n",
    "    fr(s)\n",
    "pass"
   ]
  },
  {
   "cell_type": "code",
   "execution_count": 5,
   "metadata": {},
   "outputs": [
    {
     "data": {
      "text/markdown": [
       "Принципы именования переменных и классов\n",
       "1.Не использовать: I, O, l в качестве однобуквенных идентификаторов\n",
       "2.Совместимость с ASCII\n",
       "3.Имена переменных - короткие имена. Для коваринатного или контрвариантного поведения можно использовать суффиксы _co и _contrа соответственно\n",
       "4.Имена функций должны быть строчными, слова должны быть разделены подчеркиванием\n",
       "5.Константы записывают заглавными буквами, а слова разделяют подчеркиванием\n",
       "6.Исключения: применяется стиль имен классов, если исключение является ошибкой,можно добавить в конце имени Errjr\n",
       "7.Имена классов должны использовать соглашение CapWords.\n",
       "\n",
       "\n"
      ],
      "text/plain": [
       "<IPython.core.display.Markdown object>"
      ]
     },
     "metadata": {},
     "output_type": "display_data"
    }
   ],
   "source": [
    "%%markdown\n",
    "Принципы именования переменных и классов\n",
    "1.Не использовать: I, O, l в качестве однобуквенных идентификаторов\n",
    "2.Совместимость с ASCII\n",
    "3.Имена переменных - короткие имена. Для коваринатного или контрвариантного поведения можно использовать суффиксы _co и _contrа соответственно\n",
    "4.Имена функций должны быть строчными, слова должны быть разделены подчеркиванием\n",
    "5.Константы записывают заглавными буквами, а слова разделяют подчеркиванием\n",
    "6.Исключения: применяется стиль имен классов, если исключение является ошибкой,можно добавить в конце имени Errjr\n",
    "7.Имена классов должны использовать соглашение CapWords.\n",
    "\n",
    "\n"
   ]
  }
 ],
 "metadata": {
  "kernelspec": {
   "display_name": "Python 3.10.7 64-bit",
   "language": "python",
   "name": "python3"
  },
  "language_info": {
   "codemirror_mode": {
    "name": "ipython",
    "version": 3
   },
   "file_extension": ".py",
   "mimetype": "text/x-python",
   "name": "python",
   "nbconvert_exporter": "python",
   "pygments_lexer": "ipython3",
   "version": "3.10.7"
  },
  "orig_nbformat": 4,
  "vscode": {
   "interpreter": {
    "hash": "acd12e5063930fd34c5de4b5431f51e9db5be0f8c8f23753cb35fabfddbdcdb3"
   }
  }
 },
 "nbformat": 4,
 "nbformat_minor": 2
}
