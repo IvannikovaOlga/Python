{
 "cells": [
  {
   "cell_type": "code",
   "execution_count": null,
   "metadata": {},
   "outputs": [],
   "source": [
    "list = input().split()\n",
    "list.sort()\n",
    "print(list)\n"
   ]
  },
  {
   "cell_type": "code",
   "execution_count": 1,
   "metadata": {},
   "outputs": [
    {
     "data": {
      "text/plain": [
       "'сорок пять'"
      ]
     },
     "execution_count": 1,
     "metadata": {},
     "output_type": "execute_result"
    }
   ],
   "source": [
    "def number_to_words(n):\n",
    "    dict1 = {0: 'ноль',1: 'один', 2: 'два', 3: 'три', 4: 'четыре', 5: 'пять',\n",
    "         6: 'шесть', 7: 'семь', 8: 'восемь', 9: 'девять'}   \n",
    "    dict2 = {11: 'одиннадцать', 12: 'двенадцать', 13: 'тринадцать',\n",
    "         14: 'четырнадцать', 15: 'пятнадцать', 16: 'шестнадцать',\n",
    "         17: 'семнадцать', 18: 'восемнадцать', 19: 'девятнадцать'}\n",
    "    dict3 = {10: 'десять', 20: 'двадцать', 30: 'тридцать', 40: 'сорок',\n",
    "         50: 'пятьдесят', 60: 'шестьдесят', 70: 'семьдесят',\n",
    "         80: 'восемьдесят', 90: 'девяносто'}\n",
    "    n1 = n % 10\n",
    "    n2 = n - n1\n",
    "    #число- цифра от 0 до 9, берём из словаря 1\n",
    "    if n < 10:\n",
    "        return dict1.get(n)\n",
    "    # число -цифра от 10 до 20, берём из словаря 2\n",
    "    elif 10 < n < 20:\n",
    "        return dict2.get(n)\n",
    "    # число -цифра от 20 до 90 и нацело делится на 10, берём из словаря 3\n",
    "    elif n >= 20 and n %10 ==0 :\n",
    "        return dict3.get(n)\n",
    "   # в ином случае - сложное число, первая цифра из словаря 3, вторая из словаря 1\n",
    "    else:\n",
    "        return dict3.get(n2) + ' ' + dict1.get(n1)\n",
    "t= int(input())\n",
    "number_to_words(t)\n",
    "\n"
   ]
  }
 ],
 "metadata": {
  "kernelspec": {
   "display_name": "Python 3.10.7 64-bit",
   "language": "python",
   "name": "python3"
  },
  "language_info": {
   "codemirror_mode": {
    "name": "ipython",
    "version": 3
   },
   "file_extension": ".py",
   "mimetype": "text/x-python",
   "name": "python",
   "nbconvert_exporter": "python",
   "pygments_lexer": "ipython3",
   "version": "3.10.7"
  },
  "orig_nbformat": 4,
  "vscode": {
   "interpreter": {
    "hash": "acd12e5063930fd34c5de4b5431f51e9db5be0f8c8f23753cb35fabfddbdcdb3"
   }
  }
 },
 "nbformat": 4,
 "nbformat_minor": 2
}
