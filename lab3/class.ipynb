{
 "cells": [
  {
   "cell_type": "code",
   "execution_count": 107,
   "metadata": {},
   "outputs": [
    {
     "name": "stdout",
     "output_type": "stream",
     "text": [
      "сорок шесть\n"
     ]
    }
   ],
   "source": [
    "class Writting():\n",
    "    def __init__(self, name=0):\n",
    "        self.name = name\n",
    "    \n",
    "    def words(self):\n",
    "        name=Writting()\n",
    "        dict1 = {0: 'ноль',1: 'один', 2: 'два', 3: 'три', 4: 'четыре', 5: 'пять',\n",
    "                6: 'шесть', 7: 'семь', 8: 'восемь', 9: 'девять',\n",
    "                }  #<--выравнивание по открывающему разделителю \"{\"\n",
    "        dict2 = {11: 'одиннадцать', 12: 'двенадцать', 13: 'тринадцать',\n",
    "                14: 'четырнадцать', 15: 'пятнадцать', 16: 'шестнадцать',\n",
    "                17: 'семнадцать', 18: 'восемнадцать', 19: 'девятнадцать',\n",
    "                }\n",
    "        dict3 = {10: 'десять', 20: 'двадцать', 30: 'тридцать', 40: 'сорок',\n",
    "                50: 'пятьдесят', 60: 'шестьдесят', 70: 'семьдесят',\n",
    "                80: 'восемьдесят', 90: 'девяносто',\n",
    "                }\n",
    "        n1 = self.name%10 \n",
    "        n2 = self.name-n1\n",
    "    #число- цифра от 0 до 9, берём из словаря 1\n",
    "        if self.name<10:\n",
    "            return dict1.get(self.name)\n",
    "    # число -цифра от 10 до 20, берём из словаря 2\n",
    "        elif 10<self.name<20:\n",
    "            return dict2.get(self.name)\n",
    "    # число -цифра от 20 до 90 и нацело делится на 10, берём из словаря 3\n",
    "        elif self.name>=20 and self.name%10==0:  \n",
    "            return dict3.get(self.name)\n",
    "    # в ином случае - сложное число, первая цифра из словаря 3, вторая из словаря 1\n",
    "        else:\n",
    "            return dict3.get(n2) + ' ' + dict1.get(n1) \n",
    "    \n",
    "    def __str__(self):\n",
    "        return f\"{self.words()}\"\n",
    "    \n",
    "if __name__ == '__main__':\n",
    "    money1=Writting(int(input(\"введите число: \")))\n",
    "    print(money1)\n",
    "pass"
   ]
  }
 ],
 "metadata": {
  "kernelspec": {
   "display_name": "Python 3.10.7 64-bit",
   "language": "python",
   "name": "python3"
  },
  "language_info": {
   "codemirror_mode": {
    "name": "ipython",
    "version": 3
   },
   "file_extension": ".py",
   "mimetype": "text/x-python",
   "name": "python",
   "nbconvert_exporter": "python",
   "pygments_lexer": "ipython3",
   "version": "3.10.7"
  },
  "orig_nbformat": 4,
  "vscode": {
   "interpreter": {
    "hash": "acd12e5063930fd34c5de4b5431f51e9db5be0f8c8f23753cb35fabfddbdcdb3"
   }
  }
 },
 "nbformat": 4,
 "nbformat_minor": 2
}
